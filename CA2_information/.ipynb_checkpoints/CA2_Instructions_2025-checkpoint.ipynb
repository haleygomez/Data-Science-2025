{
 "cells": [
  {
   "cell_type": "markdown",
   "metadata": {
    "collapsed": true
   },
   "source": [
    "##### Data science - Coursework 2 (55%) {-}\n",
    "## Instructions {-}\n",
    "\n"
   ]
  },
  {
   "cell_type": "markdown",
   "metadata": {},
   "source": [
    "This coursework assesses learning outcomes from **all chapters**, with particular focus on **Chapters 6, 7, 8, and 9**. You may complete this assessment **individually or in pairs**.\n",
    "\n",
    "The assessment consists of:  \n",
    "- A written **Data Science Report** worth [180 marks]  \n",
    "- A **short video** explaining your work worth [20 marks and a multiplier for evidencing understanding]  "
   ]
  },
  {
   "cell_type": "markdown",
   "metadata": {},
   "source": [
    "<div class=\"alert-info\">\n",
    "This Jupyter notebook outlines the instructions and assessment criteria for the Data Science Report. It explains the structure, marking scheme, and expectations for both the written report and the video component. Use this notebook as a reference guide while preparing your submission.</div>"
   ]
  },
  {
   "cell_type": "markdown",
   "metadata": {},
   "source": [
    "### Plagiarism {-}\n",
    "\n",
    "Please take note of the University’s policy on plagiarism, which is outlined in your student handbook.\n",
    " \n",
    "Plagiarism is the act of passing off the words or ideas of others as if your own. Advice on avoiding plagiarism is given in the UG Student Handbook. There is also considerable help and advice on Learning Central and the University web site. Students need to be especially careful of plagiarism in computing tasks and you are advised not to share code through electronic means. Students working together during their weekly exercises and the coursework is great (and indeed encouraged) but you need to ensure that they you are not using each other's code or text.\n",
    "\n",
    "### Use of genAI {-}\n",
    "\n",
    "We will follow the University’s traffic light system. This coursework is designated AMBER — you may use GenAI tools only for the computational aspect (e.g., coding cells). GenAI must not be used to write text, discussions, or interpretations. You may, however, use support tools such as dictionaries, thesauruses, or grammar/spell checkers (e.g., Grammarly), even if they are powered by GenAI. Any use of AI must be declared, as outlined in Learning Central > Assessment and Feedback > CA 2."
   ]
  },
  {
   "cell_type": "markdown",
   "metadata": {},
   "source": [
    "***"
   ]
  },
  {
   "cell_type": "markdown",
   "metadata": {},
   "source": [
    "## The Data Science Report [180 marks] {-}\n",
    "\n",
    "- Upload your final Data Science report (created in Jupyter Notebook) as a **PDF**. Instructions for converting a notebook to PDF are in *Learning Central > Assessment and Feedback*. Submit your report in _two places_: \n",
    "\n",
    "  * As your group submission for assessment in *Learning Central > Assessment and Feedback > CA 2* for grading\n",
    "  * Via Turnitin in *Learning Central > Assessment and Feedback > CA 2* for plagiarism checking  \n",
    "\n",
    "\n",
    "- Focus on reasoning, not just results. Marks are awarded for interpretation, not perfectly polished code. For each plot, briefly describe what it shows. Explain any assumptions you make and justify your choices.  \n",
    "\n",
    "- The Understanding, Analysis, Interpretation, and Presentation component of the report is broken down below. At least 30% of the report marks are allocated to clear explanations, justification of methods, evidence of understanding, and presentation. The remaining marks are awarded for correct and appropriate methods and results in the code cells.\n"
   ]
  },
  {
   "cell_type": "markdown",
   "metadata": {},
   "source": [
    "### Assessment Criteria for Understanding, Analysis, Interpretation and Presentation [25 marks] {-}\n",
    "\n",
    "\n",
    "Marks will be awarded for evidence of understanding, explanations, clarity of plots, interpretation of outputs, formatting, and overall presentation of results. Bonus marks may be awarded for additional investigations or high-quality analysis. See below for the marking criteria.  \n",
    "\n",
    "| Mark Range | Knowledge & Understanding | Analysis & Interpretation | Presentation & Communication |\n",
    "|------------|----------------------------|---------------------------|-------------------------------|\n",
    "| 22–25 (Excellent) | Exceptional mastery; advanced critical evaluation | Outstanding analysis; original and insightful | Clear, well-structured, professional; plots/tables highly informative |\n",
    "| 19–21 (Very Good) | Excellent understanding; integrates knowledge effectively | High-quality analysis; thorough discussion | Well-organized and coherent; plots support conclusions |\n",
    "| 16–18 (Good) | Strong, detailed understanding | Effective analysis; shows insight | Clear and structured; plots adequately labeled; explanations understandable |\n",
    "| 13–15 (Satisfactory) | Good knowledge with some depth | Adequate analysis; limited interpretation | Readable; plots included; explanations basic but mostly clear |\n",
    "| 10–12 (Marginal Fail)| Limited understanding | Minimal analysis; some errors | Unclear; incomplete plots or explanations |\n",
    "| 6–9 (Fail) | Basic understanding; significant gaps | Minimal and mostly incorrect analysis | Poorly structured; plots confusing or missing |\n",
    "| 0–5 (Fail) | Minimal grasp of concepts | Analysis absent or wholly incorrect | Fails to communicate findings; no meaningful plots |\n"
   ]
  },
  {
   "cell_type": "markdown",
   "metadata": {},
   "source": [
    "***"
   ]
  },
  {
   "cell_type": "markdown",
   "metadata": {},
   "source": [
    "## The video component [20 marks and multiplier] {-}\n",
    "\n",
    "Submit a short video explaining your report to show your understanding of the techniques used. The video should be informal — just you, or you and your partner, speaking as if explaining your work to another MSc/MPhys student. Focus on clarity and explanation; production quality does not earn marks. The video must be no longer than 7 minutes."
   ]
  },
  {
   "cell_type": "markdown",
   "metadata": {},
   "source": [
    "### Video Part A - Verbal expression  [20 marks] {-}\n",
    "\n",
    "You should demonstrate an ability to clearly and confidently communicate your approach, key findings. Don’t just recite results — explain why you did each step. The lowest mark that can be obtained for this component is 0. \n",
    "\n",
    "Marks are awarded based on **presentation, clarity, and engagement**.\n",
    "\n",
    "| Marks (0–25) | Verbal Expression / Delivery |\n",
    "|---------------|-----------------------------|\n",
    "| 23–25 Excellent | Exceptionally clear, confident, and engaging delivery; logical sequencing; excellent pacing; demonstrates the work carried out effectively. |\n",
    "| 20–22 Very Good | Clear and confident delivery; mostly well-structured; good pacing; descriptions of work mostly effective. |\n",
    "| 17–19 Good | Generally clear delivery; structured explanation; minor lapses in clarity or engagement; some description of work included. |\n",
    "| 14–16 Satisfactory | Adequate clarity; explanation understandable but sometimes disorganized; minimal descriptions. |\n",
    "| 10–13 Marginal | Limited clarity or confidence; disorganized presentation; minimal engagement. |\n",
    "| 1–9 Poor | Difficult to follow; lacks confidence; delivery disjointed; little to no engagement. |\n",
    "| 0 Fail | Presentation absent or unintelligible. |"
   ]
  },
  {
   "cell_type": "markdown",
   "metadata": {},
   "source": [
    "### Video Part B - Knowledge and understanding [multiplier] {-}\n",
    "\n",
    "You should demonstrate understanding of the key ideas, methods you have used to generate your report. Show you are aware of the strengths and limitations of your methods, explain your report critically, reflecting on strengths, limitations and rigour of your approach. If you demonstrate that you fully understand what you have written, then you will be awarded a 1. The lowest mark that can be obtained for this component is 0.5. **This will act as a multiplier between 0.5 and 1 for the Understanding Components of the Report (approximately 30% of the report).**\n",
    "\n",
    "Marks are awarded on a **0.5–1.0 scale**, where 0.5 = poor and 1.0 = excellent.\n",
    "\n",
    "| Marks (0.5–1.0) | Knowledge & Understanding | Analysis & Interpretation |\n",
    "|-----------------|---------------------------|---------------------------|\n",
    "| 0.95–1.0 Excellent | Exceptional mastery of content; explains concepts, methods, and reasoning clearly; demonstrates critical understanding. | Insightful, critical analysis; explains results, limitations, and uncertainties; demonstrates originality and strategic thinking. |\n",
    "| 0.85–0.94 Very Good | Excellent understanding; explains ideas clearly and mostly accurately. | Strong analysis; interprets results thoughtfully; discusses strengths and limitations. |\n",
    "| 0.75–0.84 Good | Solid understanding; explains most concepts correctly. | Reasoning generally sound; some discussion of limitations; interpretation mostly correct. |\n",
    "| 0.65–0.74 Satisfactory | Adequate understanding; key concepts explained with some gaps. | Basic analysis; reasoning partially correct; limited discussion of limitations. |\n",
    "| 0.60–0.64 Marginal | Limited understanding; explanations contain misconceptions. | Analysis superficial; reasoning contains errors; limited interpretation. |\n",
    "| 0.50–0.59 Poor | Minimal understanding; major misconceptions or incomplete explanations. | Analysis absent or largely incorrect; reasoning flawed; interpretation missing. |\n"
   ]
  },
  {
   "cell_type": "markdown",
   "metadata": {},
   "source": [
    "***"
   ]
  },
  {
   "cell_type": "markdown",
   "metadata": {},
   "source": [
    "# How is the total mark calculated for CA 2? {-}\n",
    "\n",
    "The final mark for CA 2 is derived from\n",
    "\n",
    "Total mark = Report $\\times$ (0.7 + 0.3 $\\times$ Video Part B) + Video Part A  \n",
    "\n",
    "As an example, a student receives the following marks for the report:"
   ]
  },
  {
   "cell_type": "code",
   "execution_count": 4,
   "metadata": {},
   "outputs": [
    {
     "name": "stdout",
     "output_type": "stream",
     "text": [
      "The report mark (out of 180) is 123 ie 68 %\n"
     ]
    }
   ],
   "source": [
    "A= 10\n",
    "B=7\n",
    "C=18\n",
    "D=45\n",
    "E=25\n",
    "Pres = 18\n",
    "\n",
    "report = A+B+C+D+E+Pres\n",
    "\n",
    "print('The report mark (out of 180) is',report,'ie',int(100*report/180),'%')"
   ]
  },
  {
   "cell_type": "markdown",
   "metadata": {},
   "source": [
    "The same student receives the following marks in the video:"
   ]
  },
  {
   "cell_type": "code",
   "execution_count": 5,
   "metadata": {},
   "outputs": [],
   "source": [
    "#Video Part A:\n",
    "v_a = 14\n",
    "#Video Part A:\n",
    "v_b = 0.75 "
   ]
  },
  {
   "cell_type": "markdown",
   "metadata": {},
   "source": [
    "The total mark awarded to this student would then be calculated as follows:"
   ]
  },
  {
   "cell_type": "code",
   "execution_count": 6,
   "metadata": {},
   "outputs": [
    {
     "name": "stdout",
     "output_type": "stream",
     "text": [
      "CA 2 Total mark is 63 %\n"
     ]
    }
   ],
   "source": [
    "def mark(Report_mark,Part_VB,Part_VA):\n",
    "    return Report_mark*(0.7 + 0.3*Part_VB) + Part_VA \n",
    "\n",
    "print('CA 2 Total mark is',int(100*mark(report,v_b,v_a)/200),'%')"
   ]
  }
 ],
 "metadata": {
  "kernelspec": {
   "display_name": "Python 3 (ipykernel)",
   "language": "python",
   "name": "python3"
  },
  "language_info": {
   "codemirror_mode": {
    "name": "ipython",
    "version": 3
   },
   "file_extension": ".py",
   "mimetype": "text/x-python",
   "name": "python",
   "nbconvert_exporter": "python",
   "pygments_lexer": "ipython3",
   "version": "3.9.13"
  }
 },
 "nbformat": 4,
 "nbformat_minor": 2
}
